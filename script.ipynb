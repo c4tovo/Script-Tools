{
 "cells": [
  {
   "attachments": {},
   "cell_type": "markdown",
   "metadata": {},
   "source": [
    "## tools\n",
    "> user python 3.7^"
   ]
  },
  {
   "attachments": {},
   "cell_type": "markdown",
   "metadata": {},
   "source": [
    "### 图像识别"
   ]
  },
  {
   "cell_type": "code",
   "execution_count": 1,
   "metadata": {},
   "outputs": [
    {
     "name": "stdout",
     "output_type": "stream",
     "text": [
      "7364\n"
     ]
    }
   ],
   "source": [
    "import ddddocr\n",
    "\n",
    "ocr = ddddocr.DdddOcr()\n",
    "with open('file/OIP-C.jpg', 'rb') as f:\n",
    "    img_bytes = f.read()\n",
    "res = ocr.classification(img_bytes)\n",
    "\n",
    "print(res)"
   ]
  }
 ],
 "metadata": {
  "kernelspec": {
   "display_name": "py11",
   "language": "python",
   "name": "python3"
  },
  "language_info": {
   "codemirror_mode": {
    "name": "ipython",
    "version": 3
   },
   "file_extension": ".py",
   "mimetype": "text/x-python",
   "name": "python",
   "nbconvert_exporter": "python",
   "pygments_lexer": "ipython3",
   "version": "3.11.0"
  },
  "orig_nbformat": 4,
  "vscode": {
   "interpreter": {
    "hash": "61dd15f728a235a9fa6782f60a8935704e8511432ae6a9180881ab3a37c0dfb9"
   }
  }
 },
 "nbformat": 4,
 "nbformat_minor": 2
}
