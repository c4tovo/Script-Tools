{
 "cells": [
  {
   "attachments": {},
   "cell_type": "markdown",
   "metadata": {},
   "source": [
    "## 浏览器自动化测试\n",
    "> cmd运行, 给端口, 给路径\n",
    "\n",
    "> chrome.exe --remote-debugging-port=9222 --user-data-dir=\"D:\\selenium_ui_auto\\chrome_temp\""
   ]
  },
  {
   "cell_type": "code",
   "execution_count": 1,
   "metadata": {},
   "outputs": [],
   "source": [
    "from selenium import webdriver\n",
    "from selenium.webdriver.common.by import By\n",
    "from selenium.webdriver.chrome.options import Options\n",
    "from selenium.webdriver.chrome.service import Service  # 新增\n",
    "\n",
    "chrome_options = Options()\n",
    "chrome_options.add_experimental_option(\"debuggerAddress\", \"127.0.0.1:9222\")\n",
    "driver = webdriver.Chrome(options=chrome_options)\n",
    "\n",
    "driver.get(\"https://www.baidu.com\")\n",
    "driver.find_element(by=By.ID, value='kw').send_keys('python')\n",
    "driver.find_element(by=By.ID, value='su').click()\n"
   ]
  }
 ],
 "metadata": {
  "kernelspec": {
   "display_name": "py11",
   "language": "python",
   "name": "python3"
  },
  "language_info": {
   "codemirror_mode": {
    "name": "ipython",
    "version": 3
   },
   "file_extension": ".py",
   "mimetype": "text/x-python",
   "name": "python",
   "nbconvert_exporter": "python",
   "pygments_lexer": "ipython3",
   "version": "3.11.0"
  },
  "orig_nbformat": 4
 },
 "nbformat": 4,
 "nbformat_minor": 2
}
